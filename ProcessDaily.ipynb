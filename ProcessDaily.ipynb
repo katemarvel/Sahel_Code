{
 "cells": [
  {
   "cell_type": "code",
   "execution_count": 42,
   "metadata": {},
   "outputs": [],
   "source": [
    "import cdms2 as cdms\n",
    "import MV2 as MV\n",
    "import genutil,cdutil,cdtime\n",
    "from eofs.cdms import Eof\n",
    "from eofs.multivariate.cdms import MultivariateEof\n",
    "import glob\n",
    "import string\n",
    "\n",
    "import numpy as np\n",
    "import matplotlib.pyplot as plt\n",
    "\n",
    "import sys,os\n",
    "sys.path.append(\"/Users/kmarvel/Google Drive/python-utils\")\n",
    "\n",
    "import CMIP5_tools as cmip5\n",
    "import DA_tools\n",
    "import Plotting\n",
    "\n",
    "cmip_directory = \"/Users/kmarvel/Google Drive/Sahel/DATA/FIX/\"\n",
    "daily_directory = \"/Volumes/SahelData/Sahel_daily/\""
   ]
  },
  {
   "cell_type": "code",
   "execution_count": 43,
   "metadata": {},
   "outputs": [],
   "source": [
    "def insensitive_glob(pattern):\n",
    "    def either(c):\n",
    "        return '[%s%s]' % (c.lower(), c.upper()) if c.isalpha() else c\n",
    "    return glob.glob(''.join(map(either, pattern)))"
   ]
  },
  {
   "cell_type": "code",
   "execution_count": 87,
   "metadata": {},
   "outputs": [],
   "source": [
    "\n",
    "def get_rcp(X):\n",
    "    X.getAxis(0).designateTime()\n",
    "    if X.getTime().units.find(\"days\")<=0:\n",
    "        newax = cdms.createAxis(X.getTime()[:]*30)\n",
    "        newax.units = 'days since 1960-1-1'\n",
    "        newax.designateTime()\n",
    "        newax.setCalendar(cdtime.Calendar360)\n",
    "        newax.id='time'\n",
    "        X.setAxis(0,newax)\n",
    "    cdutil.setTimeBoundsMonthly(X)\n",
    "    \n",
    "    return X(time=('2006-1-1','2099-12-31'))\n",
    "\n",
    "def get_historical(X):\n",
    "\n",
    "    X.getAxis(0).designateTime()\n",
    "    if X.getTime().units.find(\"days\")<=0:\n",
    "        newax = cdms.createAxis(X.getTime()[:]*30)\n",
    "        newax.units = 'days since 1960-1-1'\n",
    "        newax.designateTime()\n",
    "        newax.setCalendar(cdtime.Calendar360)\n",
    "        newax.id='time'\n",
    "    X.setAxis(0,newax)\n",
    "    \n",
    "    cdutil.setTimeBoundsMonthly(X)\n",
    "    \n",
    "    return X(time=('1900-1-1','2005-12-31'))"
   ]
  },
  {
   "cell_type": "code",
   "execution_count": 155,
   "metadata": {},
   "outputs": [],
   "source": [
    "fmonthly=cdms.open(cmip_directory+\"cmip5.sahel_precip.historical-rcp85.nc\")\n",
    "east=fmonthly(\"pr_CE\")\n",
    "fmonthly.close()\n",
    "splicedmodels=cmip5.models(east)\n",
    "okmodels=[]\n",
    "okrips=[]\n",
    "rcpok=[]\n",
    "histok=[]\n",
    "for splicedmodel in splicedmodels:\n",
    "    hmod,rmod=splicedmodel.split(\" SPLICED WITH \")\n",
    "    modelid=hmod.split(\".\")[1]\n",
    "    rip=hmod.split(\".\")[3]\n",
    "    #find the corresponding files in both historical and rcp\n",
    "    histfileeast=insensitive_glob(daily_directory+\"historical/\"+modelid+\"_*\"+rip+\"*East*\")\n",
    "    if histfileeast!=[]:\n",
    "        histok+=[histfileeast[0]]\n",
    "        \n",
    "    #westhistok=len(insensitive_glob(daily_directory+\"historical/\"+modelid+\"*\"+rip+\"*West*\"))==1\n",
    "    rcpfileeast=insensitive_glob(daily_directory+\"rcp85/\"+modelid+\"*\"+rip+\"*East*\")\n",
    "    if rcpfileeast != []:\n",
    "        rcpok+=[rcpfileeast[0]]\n",
    "    if ((histfileeast != []) and  (rcpfileeast != [])):   \n",
    "        okmodels+=[modelid+\"*\"+rip]\n",
    "\n",
    "reallyok=[]\n",
    "for x in okmodels:\n",
    "\n",
    "\n",
    "    histfileeast=insensitive_glob(daily_directory+\"historical/\"+x+\"*East*\")[0]\n",
    "    rcpfileeast=insensitive_glob(daily_directory+\"rcp85/\"+x+\"*East*\")[0]\n",
    "    if ((histfileeast!=[]) and  (rcpfileeast != [])):\n",
    "        fh=cdms.open(histfileeast)\n",
    "        historicaldata=get_historical(fh(\"flag\"))\n",
    "        fh.close()\n",
    "        fr=cdms.open(rcpfileeast)\n",
    "        rcpdata=get_rcp(fr(\"flag\"))\n",
    "        splicetest=MV.concatenate((historicaldata,rcpdata),axis=0)\n",
    "        fr.close()\n",
    "        if len(splicetest)== 2400:\n",
    "            reallyok+=[x]\n",
    "EAST=MV.zeros((len(reallyok),200*12)) \n",
    "WEST=MV.zeros((len(reallyok),200*12)) \n",
    "i=0\n",
    "for x in reallyok:\n",
    "    histfileeast=insensitive_glob(daily_directory+\"historical/\"+x+\"*East*\")[0]\n",
    "    rcpfileeast=insensitive_glob(daily_directory+\"rcp85/\"+x+\"*East*\")[0]\n",
    "    if ((histfileeast!=[]) and  (rcpfileeast != [])):\n",
    "        fh=cdms.open(histfileeast)\n",
    "        historicaldata=get_historical(fh(\"flag\"))\n",
    "        fh.close()\n",
    "        fr=cdms.open(rcpfileeast)\n",
    "        rcpdata=get_rcp(fr(\"flag\"))\n",
    "        splicetest=MV.concatenate((historicaldata,rcpdata),axis=0)\n",
    "        fr.close()\n",
    "        EAST[i]=splicetest\n",
    "        i+=1\n",
    "i=0\n",
    "for x in reallyok:\n",
    "    histfilewest=insensitive_glob(daily_directory+\"historical/\"+x+\"*West*\")[0]\n",
    "    rcpfilewest=insensitive_glob(daily_directory+\"rcp85/\"+x+\"*West*\")[0]\n",
    "    if ((histfilewest!=[]) and  (rcpfilewest != [])):\n",
    "        fh=cdms.open(histfilewest)\n",
    "        historicaldata=get_historical(fh(\"flag\"))\n",
    "        fh.close()\n",
    "        fr=cdms.open(rcpfilewest)\n",
    "        rcpdata=get_rcp(fr(\"flag\"))\n",
    "        splicetest=MV.concatenate((historicaldata,rcpdata),axis=0)\n",
    "        fr.close()\n",
    "        WEST[i]=splicetest\n",
    "        i+=1\n",
    "        \n",
    "        \n",
    "   "
   ]
  },
  {
   "cell_type": "code",
   "execution_count": 156,
   "metadata": {},
   "outputs": [
    {
     "data": {
      "text/plain": [
       "(31, 2400)"
      ]
     },
     "execution_count": 156,
     "metadata": {},
     "output_type": "execute_result"
    }
   ],
   "source": []
  },
  {
   "cell_type": "code",
   "execution_count": 150,
   "metadata": {},
   "outputs": [
    {
     "data": {
      "text/plain": [
       "['CCSM4*r1i1p1',\n",
       " 'CCSM4*r2i1p1',\n",
       " 'CESM1-CAM5*r1i1p1',\n",
       " 'CMCC-CM*r1i1p1',\n",
       " 'CMCC-CMS*r1i1p1',\n",
       " 'CNRM-CM5*r1i1p1',\n",
       " 'CSIRO-Mk3-6-0*r1i1p1',\n",
       " 'CanESM2*r1i1p1',\n",
       " 'CanESM2*r2i1p1',\n",
       " 'CanESM2*r3i1p1',\n",
       " 'CanESM2*r4i1p1',\n",
       " 'CanESM2*r5i1p1',\n",
       " 'GFDL-CM3*r1i1p1',\n",
       " 'HadGEM2-AO*r1i1p1',\n",
       " 'IPSL-CM5A-LR*r1i1p1',\n",
       " 'IPSL-CM5A-LR*r2i1p1',\n",
       " 'IPSL-CM5A-LR*r3i1p1',\n",
       " 'IPSL-CM5A-LR*r4i1p1',\n",
       " 'IPSL-CM5A-MR*r1i1p1',\n",
       " 'IPSL-CM5B-LR*r1i1p1',\n",
       " 'MIROC-ESM-CHEM*r1i1p1',\n",
       " 'MIROC-ESM*r1i1p1',\n",
       " 'MIROC5*r1i1p1',\n",
       " 'MIROC5*r2i1p1',\n",
       " 'MIROC5*r3i1p1',\n",
       " 'MPI-ESM-LR*r1i1p1',\n",
       " 'MPI-ESM-LR*r2i1p1',\n",
       " 'MPI-ESM-LR*r3i1p1',\n",
       " 'MPI-ESM-MR*r1i1p1',\n",
       " 'NorESM1-M*r1i1p1',\n",
       " 'inmcm4*r1i1p1']"
      ]
     },
     "execution_count": 150,
     "metadata": {},
     "output_type": "execute_result"
    }
   ],
   "source": [
    "reallyok"
   ]
  },
  {
   "cell_type": "code",
   "execution_count": null,
   "metadata": {},
   "outputs": [],
   "source": []
  }
 ],
 "metadata": {
  "kernelspec": {
   "display_name": "Python 2",
   "language": "python",
   "name": "python2"
  },
  "language_info": {
   "codemirror_mode": {
    "name": "ipython",
    "version": 2
   },
   "file_extension": ".py",
   "mimetype": "text/x-python",
   "name": "python",
   "nbconvert_exporter": "python",
   "pygments_lexer": "ipython2",
   "version": "2.7.15"
  }
 },
 "nbformat": 4,
 "nbformat_minor": 2
}
