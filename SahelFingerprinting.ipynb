{
 "cells": [
  {
   "cell_type": "code",
   "execution_count": 12,
   "metadata": {},
   "outputs": [],
   "source": [
    "import cdms2 as cdms\n",
    "import MV2 as MV\n",
    "import numpy as np\n",
    "import matplotlib.pyplot as plt\n",
    "import matplotlib.cm as cm\n",
    "# Local solution\n",
    "# If running remotely, uncomment the following code:\n",
    "# %%bash\n",
    "# git clone https://github.com/katemarvel/CMIP5_tools\n",
    "# import CMIP5_tools as cmip5\n",
    "import sys\n",
    "sys.path.append(\"/Users/kmarvel/Google\\ Drive/CMIP5_tools/\")\n",
    "import CMIP5_tools as cmip5\n",
    "import Plotting\n",
    "%matplotlib inline"
   ]
  },
  {
   "cell_type": "markdown",
   "metadata": {},
   "source": [
    "# Data\n",
    "Regional monthly mean precipitation data has been calculated for the central/eastern Sahel (east of 0$^{\\circ}$ longitude) and the western Sahel (west) in all CMIP5 models and three observational datasets."
   ]
  },
  {
   "cell_type": "code",
   "execution_count": 2,
   "metadata": {},
   "outputs": [],
   "source": [
    "cmip_directory = \"/Users/kmarvel/Google Drive/Sahel/DATA/FIX/\"\n",
    "obs_directory = \"/Users/kmarvel/Google Drive/Sahel/DATA/OBS/PROCESSED/\""
   ]
  },
  {
   "cell_type": "code",
   "execution_count": 3,
   "metadata": {},
   "outputs": [],
   "source": [
    "def get_cmip5_data(experiment):\n",
    "    \"\"\"\n",
    "    Get east, west, and total Sahel precipitation data.  \n",
    "    Experiment can be one of\n",
    "    *1pctCO2\n",
    "    *AA\n",
    "    *historical\n",
    "    *historicalGHG\n",
    "    *historical-rcp85 (spliced)\n",
    "    *piControl\n",
    "    *rcp85\n",
    "    \"\"\"\n",
    "    f=cdms.open(cmip_directory+\"cmip5.sahel_precip.\"+experiment+\".nc\")\n",
    "    east=f(\"pr_CE\")\n",
    "    west=f(\"pr_W\")\n",
    "    total=f(\"pr_sahel\")\n",
    "    f.close()\n",
    "    return west, east, total\n",
    "                \n",
    "def get_obs_data(dataset):    \n",
    "    \"\"\"\n",
    "    Get east, west, and total Sahel precipitation data.  \n",
    "    Dataset can be one of\n",
    "    *CMAP\n",
    "    *GPCP\n",
    "    *PRECL\n",
    "    \"\"\"\n",
    "    f=cdms.open(cmip_directory+\"cmip5.sahel_precip.\"+experiment+\".nc\")\n",
    "    east=f(\"pr_CE\")\n",
    "    west=f(\"pr_W\")\n",
    "    total=f(\"pr_sahel\")\n",
    "    f.close()\n",
    "    return west,east,total"
   ]
  },
  {
   "cell_type": "markdown",
   "metadata": {},
   "source": [
    "# Fingerprints\n",
    "The fingerprint of a particular forcing or collection of forcings is calculated as the leading EOF of the multi-model mean of the CMIP5 simulations containing that forcing."
   ]
  },
  {
   "cell_type": "code",
   "execution_count": 4,
   "metadata": {},
   "outputs": [],
   "source": [
    "def by_month(X):\n",
    "    \"\"\"\n",
    "    X is a cdat variable with a labeled time axis with time step = 1 month.\n",
    "    This function returns variable with one extra axis with shape (12)\n",
    "    \"\"\"\n",
    "    time_i=X.getAxisIds().index('time')\n",
    "    nm=X.shape[time_i]\n",
    "    nyears = int(nm/12)\n",
    "    newtime=(nyears,12)\n",
    "    d={}\n",
    "    for i in range(len(X.shape)):\n",
    "        d[i]=X.shape[i]\n",
    "    d[time_i]=newtime\n",
    "    #now make the new shape\n",
    "    newshape=()\n",
    "    for i in range(len(X.shape)):\n",
    "        x=d[i]\n",
    "        if type(x)==type(()):\n",
    "            newshape+=x\n",
    "        else:\n",
    "            newshape+=(x,)\n",
    "    Xr=MV.array(X.asma().reshape(newshape))\n",
    "    axlist = range(len(X.shape))\n",
    "    for i in axlist:\n",
    "        if i != time_i:\n",
    "            Xr.setAxis(i,X.getAxis(i)) \n",
    "    monthax = cdms.createAxis(np.arange(12)+1)\n",
    "    monthax.id=\"months\"\n",
    "    monthax.months=str([\"JAN\",\"FEB\",\"MAR\",\"APR\",\"MAY\",\"JUN\",\"JUL\",\"AUG\",\"SEP\",\"OCT\",\"NOV\",\"DEC\"])\n",
    "    Xr.setAxis(time_i+1,monthax)\n",
    "    \n",
    "    yearax = cdms.createAxis(X.getTime()[6::12])\n",
    "    for att in X.getTime().attributes:\n",
    "        setattr(yearax,att,X.getTime().attributes[att])\n",
    "    \n",
    "    yearax.id=\"time\"\n",
    "    yearax.designateTime()\n",
    "    Xr.setAxis(time_i,yearax)\n",
    "    \n",
    "    return Xr\n"
   ]
  },
  {
   "cell_type": "code",
   "execution_count": 5,
   "metadata": {},
   "outputs": [],
   "source": [
    "west,east,total=get_cmip5_data(\"1pctCO2\")\n",
    "west_r=by_month(west)\n",
    "west_r_a=MV.average(cmip5.ensemble2multimodel(west_r),axis=0)\n",
    "west_r_clim=MV.average(west_r_a,axis=0)\n",
    "\n",
    "east_r=by_month(east)\n",
    "east_r_a=MV.average(cmip5.ensemble2multimodel(east_r),axis=0)\n",
    "east_r_clim=MV.average(east_r_a,axis=0)"
   ]
  },
  {
   "cell_type": "code",
   "execution_count": 6,
   "metadata": {},
   "outputs": [],
   "source": [
    "def plot_monthly_polar(data,ax,**kwargs):\n",
    "   # if ax is None:\n",
    "      #  ax=plt.subplot(1,1,1,projection='polar')\n",
    "    theta=np.linspace(0,2*np.pi,13)[:-1]\n",
    "    if data.shape==(12,):\n",
    "        ax.plot(theta,data,\"o-\",**kwargs)\n",
    "    else:\n",
    "        L=float(data.shape[0])\n",
    "        i=0\n",
    "        for datum in data:\n",
    "            ax.plot(theta,datum,\"o-\",color=cm.RdYlBu(i/L))\n",
    "            i+=1\n",
    "    months=[\"JAN\",\"FEB\",\"MAR\",\"APR\",\"MAY\",\"JUN\",\"JUL\",\"AUG\",\"SEP\",\"OCT\",\"NOV\",\"DEC\"]\n",
    "    plt.thetagrids(np.rad2deg(theta),months)\n",
    "    return ax"
   ]
  },
  {
   "cell_type": "code",
   "execution_count": 7,
   "metadata": {},
   "outputs": [
    {
     "data": {
      "text/plain": [
       "[<matplotlib.lines.Line2D at 0x132737d190>]"
      ]
     },
     "execution_count": 7,
     "metadata": {},
     "output_type": "execute_result"
    },
    {
     "data": {
      "image/png": "[encoded data removed]",
      "text/plain": [
       "<Figure size 432x288 with 1 Axes>"
      ]
     },
     "metadata": {
      "needs_background": "light"
     },
     "output_type": "display_data"
    }
   ],
   "source": [
    "data=west_r_clim.asma()\n",
    "ax=plt.subplot(1,1,1,projection='polar')\n",
    "plot_monthly_polar(east_r_a.asma()[::10],ax=ax)\n",
    "#plot_monthly_polar(east_r_clim.asma(),ax=ax,c=\"k\")\n",
    "data.shape\n",
    "ax.plot([0,np.pi/2],[1,1])"
   ]
  },
  {
   "cell_type": "code",
   "execution_count": 8,
   "metadata": {},
   "outputs": [
    {
     "data": {
      "text/plain": [
       "{'bounds_time': <cdms2.fvariable.FileVariable at 0x1326222c10>,\n",
       " 'east': <cdms2.fvariable.FileVariable at 0x1326222d50>,\n",
       " 'west': <cdms2.fvariable.FileVariable at 0x1326222c50>}"
      ]
     },
     "execution_count": 8,
     "metadata": {},
     "output_type": "execute_result"
    }
   ],
   "source": [
    "f=cdms.open(\"/Users/kmarvel/Google Drive/Sahel/DATA/monthprecip/rcp85.nc\")\n",
    "f.variables"
   ]
  },
  {
   "cell_type": "code",
   "execution_count": 9,
   "metadata": {},
   "outputs": [],
   "source": [
    "testeast=f(\"east\")"
   ]
  },
  {
   "cell_type": "code",
   "execution_count": 10,
   "metadata": {},
   "outputs": [
    {
     "data": {
      "text/plain": [
       "(28, 1128)"
      ]
     },
     "execution_count": 10,
     "metadata": {},
     "output_type": "execute_result"
    }
   ],
   "source": [
    "testeast.shape"
   ]
  },
  {
   "cell_type": "code",
   "execution_count": 11,
   "metadata": {},
   "outputs": [
    {
     "data": {
      "text/plain": [
       "{'name': 'variable_612', 'tileIndex': None}"
      ]
     },
     "execution_count": 11,
     "metadata": {},
     "output_type": "execute_result"
    }
   ],
   "source": [
    "testeast.attributes"
   ]
  },
  {
   "cell_type": "code",
   "execution_count": 14,
   "metadata": {},
   "outputs": [
    {
     "data": {
      "text/plain": [
       "['ACCESS1-0',\n",
       " 'ACCESS1-3',\n",
       " 'BNU-ESM',\n",
       " 'CCSM4',\n",
       " 'CESM1-CAM5',\n",
       " 'CMCC-CM',\n",
       " 'CMCC-CMS',\n",
       " 'CNRM-CM5',\n",
       " 'CSIRO-Mk3-6-0',\n",
       " 'CanESM2',\n",
       " 'FGOALS-g2',\n",
       " 'GFDL-CM3',\n",
       " 'GFDL-ESM2G',\n",
       " 'GFDL-ESM2M',\n",
       " 'HadGEM2-AO',\n",
       " 'HadGEM2-CC',\n",
       " 'HadGEM2-ES',\n",
       " 'IPSL-CM5A-LR',\n",
       " 'IPSL-CM5A-MR',\n",
       " 'IPSL-CM5B-LR',\n",
       " 'MIROC-ESM',\n",
       " 'MIROC-ESM-CHEM',\n",
       " 'MIROC5',\n",
       " 'MPI-ESM-LR',\n",
       " 'MPI-ESM-MR',\n",
       " 'MRI-CGCM3',\n",
       " 'NorESM1-M',\n",
       " 'inmcm4']"
      ]
     },
     "execution_count": 14,
     "metadata": {},
     "output_type": "execute_result"
    }
   ],
   "source": [
    "cmip5.models(testeast)"
   ]
  },
  {
   "cell_type": "code",
   "execution_count": 17,
   "metadata": {},
   "outputs": [
    {
     "data": {
      "text/plain": [
       "array(['ACCESS1-0', 'ACCESS1-3', 'BNU-ESM', 'CCSM4', 'CESM1-BGC',\n",
       "       'CESM1-CAM5', 'CESM1-CAM5-1-FV2', 'CMCC-CM', 'CNRM-CM5',\n",
       "       'CNRM-CM5-2', 'CSIRO-Mk3-6-0', 'CanESM2', 'FGOALS-g2', 'FGOALS-s2',\n",
       "       'GFDL-CM3', 'GFDL-ESM2G', 'GFDL-ESM2G-1', 'GFDL-ESM2M',\n",
       "       'GISS-E2-H', 'GISS-E2-R', 'HadGEM2-ES', 'IPSL-CM5A-LR',\n",
       "       'IPSL-CM5A-MR', 'IPSL-CM5B-LR', 'MIROC-ESM', 'MIROC5',\n",
       "       'MPI-ESM-LR', 'MPI-ESM-MR', 'MPI-ESM-P', 'MRI-CGCM3', 'NorESM1-M',\n",
       "       'NorESM1-ME', 'bcc-csm1-1', 'bcc-csm1-1-m', 'inmcm4'], dtype='|S16')"
      ]
     },
     "execution_count": 17,
     "metadata": {},
     "output_type": "execute_result"
    }
   ],
   "source": [
    "np.unique([x.split(\".\")[1] for x in cmip5.models(east_r)])"
   ]
  },
  {
   "cell_type": "code",
   "execution_count": 22,
   "metadata": {},
   "outputs": [
    {
     "data": {
      "text/plain": [
       "(28, 94, 12)"
      ]
     },
     "execution_count": 22,
     "metadata": {},
     "output_type": "execute_result"
    }
   ],
   "source": [
    "east_daily_r=by_month(testeast)\n",
    "east_daily_r.shape"
   ]
  },
  {
   "cell_type": "code",
   "execution_count": 23,
   "metadata": {},
   "outputs": [],
   "source": [
    "monthlymean=east_r[0]\n",
    "numdays=east_daily_r[0]"
   ]
  },
  {
   "cell_type": "code",
   "execution_count": 24,
   "metadata": {},
   "outputs": [
    {
     "data": {
      "text/plain": [
       "2097-7-15 0:0:0.0"
      ]
     },
     "execution_count": 24,
     "metadata": {},
     "output_type": "execute_result"
    }
   ],
   "source": [
    "cmip5.stop_time(numdays)"
   ]
  },
  {
   "cell_type": "code",
   "execution_count": null,
   "metadata": {},
   "outputs": [],
   "source": []
  }
 ],
 "metadata": {
  "kernelspec": {
   "display_name": "Python 2",
   "language": "python",
   "name": "python2"
  },
  "language_info": {
   "codemirror_mode": {
    "name": "ipython",
    "version": 2
   },
   "file_extension": ".py",
   "mimetype": "text/x-python",
   "name": "python",
   "nbconvert_exporter": "python",
   "pygments_lexer": "ipython2",
   "version": "2.7.15"
  }
 },
 "nbformat": 4,
 "nbformat_minor": 2
}
