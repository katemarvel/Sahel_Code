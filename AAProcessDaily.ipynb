{
 "cells": [
  {
   "cell_type": "code",
   "execution_count": 11,
   "metadata": {},
   "outputs": [],
   "source": [
    "import cdms2 as cdms\n",
    "import MV2 as MV\n",
    "import genutil,cdutil,cdtime\n",
    "from eofs.cdms import Eof\n",
    "from eofs.multivariate.cdms import MultivariateEof\n",
    "import glob\n",
    "import string\n",
    "\n",
    "import numpy as np\n",
    "import matplotlib.pyplot as plt\n",
    "\n",
    "import sys,os\n",
    "sys.path.append(\"/Users/kmarvel/Google Drive/python-utils\")\n",
    "\n",
    "import CMIP5_tools as cmip5\n",
    "import DA_tools\n",
    "import Plotting\n",
    "\n",
    "cmip_directory = \"/Users/kmarvel/Google Drive/Sahel/DATA/CMIP5/\"\n",
    "daily_directory = \"/Volumes/SahelData/Sahel_daily/\"\n",
    "\n",
    "### Set classic Netcdf (ver 3)\n",
    "cdms.setNetcdfShuffleFlag(0)\n",
    "cdms.setNetcdfDeflateFlag(0)\n",
    "cdms.setNetcdfDeflateLevelFlag(0)"
   ]
  },
  {
   "cell_type": "code",
   "execution_count": 12,
   "metadata": {},
   "outputs": [],
   "source": [
    "f=cdms.open(\"/Users/kmarvel/Google Drive/Sahel/DATA/DAILY/MMA_aerosol_R1_EastSahel.nc\")\n",
    "EAST=f(\"R1_east\")\n",
    "EAST.id=\"intensity_CE\"\n",
    "f.close()\n",
    "\n",
    "f=cdms.open(\"/Users/kmarvel/Google Drive/Sahel/DATA/DAILY/MMA_aerosol_TOT_EastSahel.nc\")\n",
    "meast_trunc=f(\"TOT_east\")\n",
    "meast_trunc.id=\"pr_CE\"\n",
    "f.close()"
   ]
  },
  {
   "cell_type": "code",
   "execution_count": 13,
   "metadata": {},
   "outputs": [],
   "source": [
    "f=cdms.open(\"/Users/kmarvel/Google Drive/Sahel/DATA/DAILY/MMA_aerosol_R1_westSahel.nc\")\n",
    "WEST=f(\"R1_west\")\n",
    "WEST.id=\"intensity_W\"\n",
    "f.close()\n",
    "\n",
    "f=cdms.open(\"/Users/kmarvel/Google Drive/Sahel/DATA/DAILY/MMA_aerosol_TOT_westSahel.nc\")\n",
    "mwest_trunc=f(\"TOT_west\")\n",
    "mwest_trunc.id=\"pr_W\"\n",
    "f.close()"
   ]
  },
  {
   "cell_type": "code",
   "execution_count": 39,
   "metadata": {},
   "outputs": [
    {
     "data": {
      "text/plain": [
       "'cmip5.CCSM4.AA.r1i1p10.mo.atm.Amon.pr.ver-1.latestX.nc'"
      ]
     },
     "execution_count": 39,
     "metadata": {},
     "output_type": "execute_result"
    }
   ],
   "source": [
    "modax=cmip5.models(WEST)\n",
    "x=modax[0]\n",
    "model,rip,variable,region=x.split(\"/\")[-1].split(\"_\")\n",
    "region=region.split(\".nc\")[0]\n",
    "region\n",
    "newname=\"cmip5.\"+model+\".AA.\"+rip+\".mo.atm.Amon.pr.ver-1.latestX.nc\"\n",
    "newmodax+=[newname]"
   ]
  },
  {
   "cell_type": "code",
   "execution_count": 14,
   "metadata": {},
   "outputs": [],
   "source": [
    "fw=cdms.open(\"/Users/kmarvel/Google Drive/Sahel/DATA/CMIP5/INTENSITY/cmip5.sahel_precip_intensity.AA.nc\",\"w\")\n",
    "fw.write(EAST)\n",
    "fw.write(WEST)\n",
    "fw.write(meast_trunc)\n",
    "fw.write(mwest_trunc)\n",
    "fw.close()"
   ]
  },
  {
   "cell_type": "code",
   "execution_count": null,
   "metadata": {},
   "outputs": [],
   "source": []
  }
 ],
 "metadata": {
  "kernelspec": {
   "display_name": "Python 3",
   "language": "python",
   "name": "python3"
  },
  "language_info": {
   "codemirror_mode": {
    "name": "ipython",
    "version": 3
   },
   "file_extension": ".py",
   "mimetype": "text/x-python",
   "name": "python",
   "nbconvert_exporter": "python",
   "pygments_lexer": "ipython3",
   "version": "3.6.7"
  }
 },
 "nbformat": 4,
 "nbformat_minor": 2
}
